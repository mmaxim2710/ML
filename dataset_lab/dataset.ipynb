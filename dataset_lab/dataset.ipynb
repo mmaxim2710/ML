{
 "cells": [
  {
   "cell_type": "markdown",
   "source": [
    "# Лабораторная работа 1\n",
    "#### Жерлыгин Максим"
   ],
   "metadata": {
    "collapsed": false,
    "pycharm": {
     "name": "#%% md\n"
    }
   }
  },
  {
   "cell_type": "code",
   "execution_count": 1,
   "id": "provincial-characteristic",
   "metadata": {},
   "outputs": [
    {
     "name": "stdout",
     "output_type": "stream",
     "text": [
      "Requirement already satisfied: pandas in c:\\users\\zero\\appdata\\local\\programs\\python\\python38\\lib\\site-packages (1.2.4)Note: you may need to restart the kernel to use updated packages.\n",
      "Requirement already satisfied: pytz>=2017.3 in c:\\users\\zero\\appdata\\local\\programs\\python\\python38\\lib\\site-packages (from pandas) (2021.1)\n",
      "Requirement already satisfied: numpy>=1.16.5 in c:\\users\\zero\\appdata\\local\\programs\\python\\python38\\lib\\site-packages (from pandas) (1.20.2)\n",
      "Requirement already satisfied: python-dateutil>=2.7.3 in c:\\users\\zero\\appdata\\local\\programs\\python\\python38\\lib\\site-packages (from pandas) (2.8.1)\n",
      "Requirement already satisfied: six>=1.5 in c:\\users\\zero\\appdata\\local\\programs\\python\\python38\\lib\\site-packages (from python-dateutil>=2.7.3->pandas) (1.15.0)\n",
      "\n",
      "Requirement already satisfied: numpy in c:\\users\\zero\\appdata\\local\\programs\\python\\python38\\lib\\site-packages (1.20.2)\n",
      "Note: you may need to restart the kernel to use updated packages.\n",
      "Requirement already satisfied: sklearn in c:\\users\\zero\\appdata\\local\\programs\\python\\python38\\lib\\site-packages (0.0)\n",
      "Requirement already satisfied: scikit-learn in c:\\users\\zero\\appdata\\local\\programs\\python\\python38\\lib\\site-packages (from sklearn) (0.24.1)\n",
      "Requirement already satisfied: scipy>=0.19.1 in c:\\users\\zero\\appdata\\local\\programs\\python\\python38\\lib\\site-packages (from scikit-learn->sklearn) (1.6.2)\n",
      "Requirement already satisfied: numpy>=1.13.3 in c:\\users\\zero\\appdata\\local\\programs\\python\\python38\\lib\\site-packages (from scikit-learn->sklearn) (1.20.2)\n",
      "Requirement already satisfied: joblib>=0.11 in c:\\users\\zero\\appdata\\local\\programs\\python\\python38\\lib\\site-packages (from scikit-learn->sklearn) (1.0.1)\n",
      "Requirement already satisfied: threadpoolctl>=2.0.0 in c:\\users\\zero\\appdata\\local\\programs\\python\\python38\\lib\\site-packages (from scikit-learn->sklearn) (2.1.0)\n",
      "Note: you may need to restart the kernel to use updated packages.\n"
     ]
    }
   ],
   "source": [
    "%pip install pandas\n",
    "%pip install numpy\n",
    "%pip install sklearn"
   ]
  },
  {
   "cell_type": "markdown",
   "id": "spoken-singles",
   "metadata": {},
   "source": [
    "# О датасете"
   ]
  },
  {
   "cell_type": "markdown",
   "id": "framed-debate",
   "metadata": {},
   "source": [
    "Был выбран датасет с информацией о 303 пациентах: пол, возраст, артериальное давление в состоянии покоя, тип боли в груди и прочие. По указанным признакам необходимо классифицировать пациента к одной из пяти категорий: 0, 1, 2, 3, 4, определяющей вероятность наличия у человека сердечного заболевания (где 0 - нет заболевания, 4 - точно есть)."
   ]
  },
  {
   "cell_type": "markdown",
   "id": "searching-gender",
   "metadata": {},
   "source": [
    "http://archive.ics.uci.edu/ml/datasets/Heart+Disease"
   ]
  },
  {
   "cell_type": "markdown",
   "id": "subtle-thailand",
   "metadata": {},
   "source": [
    "Из 75 исходных атрибутов в датасете оставили 14 основных:\n",
    "1. **age** - возраст (кол)\n",
    "2. **sex** - пол (кач)\n",
    "3. **cp** - тип боли в груди (кач) \n",
    "4. **trestbps** - артериальное давление в состоянии покоя (кол)\n",
    "5. **chol** - холестерин (кол)\n",
    "6. **fbs** - больше ли уровень сахара натощак 120 мг/дл (кач) \n",
    "7. **restecg** - ЭКГ в покое (кач)\n",
    "8. **thalach** - максимальная частота сердцебиения (кол)\n",
    "9. **exang** - наличие стенокардии во время физической нагрузки (кач)\n",
    "10. **oldpeak** - ST-депрессия после нагрузки относительно состояния покоя (кол)\n",
    "11. **slope** - тип наклона (кач)\n",
    "12. **ca** - количество крупных сосудов (0-3), окрашенных флурозопией (кач)\n",
    "13. **thal** - оценка сердцебиения (кач)\n",
    "14. **num** (the predicted attribute) - шанс (от 0 до 4) наличия сердечного заболевания (кач)\n",
    "\n",
    "\n",
    "Все значения - числовые.\n",
    "В некоторых записях есть отсутствующие поля (вместо значения стоит знак вопроса '?')."
   ]
  },
  {
   "cell_type": "markdown",
   "id": "incoming-maldives",
   "metadata": {},
   "source": [
    "### Работа с датасетом"
   ]
  },
  {
   "cell_type": "markdown",
   "id": "educational-driver",
   "metadata": {},
   "source": [
    "Исходный файл имеет внутреннее представление **csv**-файлов: данные разделены запятыми.\n"
   ]
  },
  {
   "cell_type": "markdown",
   "id": "addressed-configuration",
   "metadata": {},
   "source": [
    "Строка с названиями столбцов была добавлена вручную. Выберем из датасета первые 10 записей, которые будут играть роль тестовой выборки."
   ]
  },
  {
   "cell_type": "markdown",
   "id": "timely-accountability",
   "metadata": {},
   "source": [
    "Импортируем модуль pandas и загрузим датесеты из файлов."
   ]
  },
  {
   "cell_type": "code",
   "execution_count": 2,
   "id": "prepared-cream",
   "metadata": {
    "scrolled": false
   },
   "outputs": [],
   "source": [
    "import pandas as pd\n",
    "\n",
    "df = pd.read_csv('processed.cleveland.csv')\n",
    "df_test = pd.read_csv('test.processed.cleveland.csv')"
   ]
  },
  {
   "cell_type": "code",
   "execution_count": 3,
   "id": "peaceful-right",
   "metadata": {},
   "outputs": [
    {
     "data": {
      "text/html": [
       "<div>\n",
       "<style scoped>\n",
       "    .dataframe tbody tr th:only-of-type {\n",
       "        vertical-align: middle;\n",
       "    }\n",
       "\n",
       "    .dataframe tbody tr th {\n",
       "        vertical-align: top;\n",
       "    }\n",
       "\n",
       "    .dataframe thead th {\n",
       "        text-align: right;\n",
       "    }\n",
       "</style>\n",
       "<table border=\"1\" class=\"dataframe\">\n",
       "  <thead>\n",
       "    <tr style=\"text-align: right;\">\n",
       "      <th></th>\n",
       "      <th>age</th>\n",
       "      <th>sex</th>\n",
       "      <th>cp</th>\n",
       "      <th>trestbps</th>\n",
       "      <th>chol</th>\n",
       "      <th>fbs</th>\n",
       "      <th>restecg</th>\n",
       "      <th>thalach</th>\n",
       "      <th>exang</th>\n",
       "      <th>oldpeak</th>\n",
       "      <th>slope</th>\n",
       "      <th>ca</th>\n",
       "      <th>thal</th>\n",
       "      <th>num</th>\n",
       "    </tr>\n",
       "  </thead>\n",
       "  <tbody>\n",
       "    <tr>\n",
       "      <th>0</th>\n",
       "      <td>57.0</td>\n",
       "      <td>1.0</td>\n",
       "      <td>4.0</td>\n",
       "      <td>140.0</td>\n",
       "      <td>192.0</td>\n",
       "      <td>0.0</td>\n",
       "      <td>0.0</td>\n",
       "      <td>148.0</td>\n",
       "      <td>0.0</td>\n",
       "      <td>0.4</td>\n",
       "      <td>2.0</td>\n",
       "      <td>0.0</td>\n",
       "      <td>6.0</td>\n",
       "      <td>0</td>\n",
       "    </tr>\n",
       "    <tr>\n",
       "      <th>1</th>\n",
       "      <td>56.0</td>\n",
       "      <td>0.0</td>\n",
       "      <td>2.0</td>\n",
       "      <td>140.0</td>\n",
       "      <td>294.0</td>\n",
       "      <td>0.0</td>\n",
       "      <td>2.0</td>\n",
       "      <td>153.0</td>\n",
       "      <td>0.0</td>\n",
       "      <td>1.3</td>\n",
       "      <td>2.0</td>\n",
       "      <td>0.0</td>\n",
       "      <td>3.0</td>\n",
       "      <td>0</td>\n",
       "    </tr>\n",
       "    <tr>\n",
       "      <th>2</th>\n",
       "      <td>56.0</td>\n",
       "      <td>1.0</td>\n",
       "      <td>3.0</td>\n",
       "      <td>130.0</td>\n",
       "      <td>256.0</td>\n",
       "      <td>1.0</td>\n",
       "      <td>2.0</td>\n",
       "      <td>142.0</td>\n",
       "      <td>1.0</td>\n",
       "      <td>0.6</td>\n",
       "      <td>2.0</td>\n",
       "      <td>1.0</td>\n",
       "      <td>6.0</td>\n",
       "      <td>2</td>\n",
       "    </tr>\n",
       "    <tr>\n",
       "      <th>3</th>\n",
       "      <td>44.0</td>\n",
       "      <td>1.0</td>\n",
       "      <td>2.0</td>\n",
       "      <td>120.0</td>\n",
       "      <td>263.0</td>\n",
       "      <td>0.0</td>\n",
       "      <td>0.0</td>\n",
       "      <td>173.0</td>\n",
       "      <td>0.0</td>\n",
       "      <td>0.0</td>\n",
       "      <td>1.0</td>\n",
       "      <td>0.0</td>\n",
       "      <td>7.0</td>\n",
       "      <td>0</td>\n",
       "    </tr>\n",
       "    <tr>\n",
       "      <th>4</th>\n",
       "      <td>52.0</td>\n",
       "      <td>1.0</td>\n",
       "      <td>3.0</td>\n",
       "      <td>172.0</td>\n",
       "      <td>199.0</td>\n",
       "      <td>1.0</td>\n",
       "      <td>0.0</td>\n",
       "      <td>162.0</td>\n",
       "      <td>0.0</td>\n",
       "      <td>0.5</td>\n",
       "      <td>1.0</td>\n",
       "      <td>0.0</td>\n",
       "      <td>7.0</td>\n",
       "      <td>0</td>\n",
       "    </tr>\n",
       "    <tr>\n",
       "      <th>...</th>\n",
       "      <td>...</td>\n",
       "      <td>...</td>\n",
       "      <td>...</td>\n",
       "      <td>...</td>\n",
       "      <td>...</td>\n",
       "      <td>...</td>\n",
       "      <td>...</td>\n",
       "      <td>...</td>\n",
       "      <td>...</td>\n",
       "      <td>...</td>\n",
       "      <td>...</td>\n",
       "      <td>...</td>\n",
       "      <td>...</td>\n",
       "      <td>...</td>\n",
       "    </tr>\n",
       "    <tr>\n",
       "      <th>288</th>\n",
       "      <td>45.0</td>\n",
       "      <td>1.0</td>\n",
       "      <td>1.0</td>\n",
       "      <td>110.0</td>\n",
       "      <td>264.0</td>\n",
       "      <td>0.0</td>\n",
       "      <td>0.0</td>\n",
       "      <td>132.0</td>\n",
       "      <td>0.0</td>\n",
       "      <td>1.2</td>\n",
       "      <td>2.0</td>\n",
       "      <td>0.0</td>\n",
       "      <td>7.0</td>\n",
       "      <td>1</td>\n",
       "    </tr>\n",
       "    <tr>\n",
       "      <th>289</th>\n",
       "      <td>68.0</td>\n",
       "      <td>1.0</td>\n",
       "      <td>4.0</td>\n",
       "      <td>144.0</td>\n",
       "      <td>193.0</td>\n",
       "      <td>1.0</td>\n",
       "      <td>0.0</td>\n",
       "      <td>141.0</td>\n",
       "      <td>0.0</td>\n",
       "      <td>3.4</td>\n",
       "      <td>2.0</td>\n",
       "      <td>2.0</td>\n",
       "      <td>7.0</td>\n",
       "      <td>2</td>\n",
       "    </tr>\n",
       "    <tr>\n",
       "      <th>290</th>\n",
       "      <td>57.0</td>\n",
       "      <td>1.0</td>\n",
       "      <td>4.0</td>\n",
       "      <td>130.0</td>\n",
       "      <td>131.0</td>\n",
       "      <td>0.0</td>\n",
       "      <td>0.0</td>\n",
       "      <td>115.0</td>\n",
       "      <td>1.0</td>\n",
       "      <td>1.2</td>\n",
       "      <td>2.0</td>\n",
       "      <td>1.0</td>\n",
       "      <td>7.0</td>\n",
       "      <td>3</td>\n",
       "    </tr>\n",
       "    <tr>\n",
       "      <th>291</th>\n",
       "      <td>57.0</td>\n",
       "      <td>0.0</td>\n",
       "      <td>2.0</td>\n",
       "      <td>130.0</td>\n",
       "      <td>236.0</td>\n",
       "      <td>0.0</td>\n",
       "      <td>2.0</td>\n",
       "      <td>174.0</td>\n",
       "      <td>0.0</td>\n",
       "      <td>0.0</td>\n",
       "      <td>2.0</td>\n",
       "      <td>1.0</td>\n",
       "      <td>3.0</td>\n",
       "      <td>1</td>\n",
       "    </tr>\n",
       "    <tr>\n",
       "      <th>292</th>\n",
       "      <td>38.0</td>\n",
       "      <td>1.0</td>\n",
       "      <td>3.0</td>\n",
       "      <td>138.0</td>\n",
       "      <td>175.0</td>\n",
       "      <td>0.0</td>\n",
       "      <td>0.0</td>\n",
       "      <td>173.0</td>\n",
       "      <td>0.0</td>\n",
       "      <td>0.0</td>\n",
       "      <td>1.0</td>\n",
       "      <td>?</td>\n",
       "      <td>3.0</td>\n",
       "      <td>0</td>\n",
       "    </tr>\n",
       "  </tbody>\n",
       "</table>\n",
       "<p>293 rows × 14 columns</p>\n",
       "</div>"
      ],
      "text/plain": [
       "      age  sex   cp  trestbps   chol  fbs  restecg  thalach  exang  oldpeak  \\\n",
       "0    57.0  1.0  4.0     140.0  192.0  0.0      0.0    148.0    0.0      0.4   \n",
       "1    56.0  0.0  2.0     140.0  294.0  0.0      2.0    153.0    0.0      1.3   \n",
       "2    56.0  1.0  3.0     130.0  256.0  1.0      2.0    142.0    1.0      0.6   \n",
       "3    44.0  1.0  2.0     120.0  263.0  0.0      0.0    173.0    0.0      0.0   \n",
       "4    52.0  1.0  3.0     172.0  199.0  1.0      0.0    162.0    0.0      0.5   \n",
       "..    ...  ...  ...       ...    ...  ...      ...      ...    ...      ...   \n",
       "288  45.0  1.0  1.0     110.0  264.0  0.0      0.0    132.0    0.0      1.2   \n",
       "289  68.0  1.0  4.0     144.0  193.0  1.0      0.0    141.0    0.0      3.4   \n",
       "290  57.0  1.0  4.0     130.0  131.0  0.0      0.0    115.0    1.0      1.2   \n",
       "291  57.0  0.0  2.0     130.0  236.0  0.0      2.0    174.0    0.0      0.0   \n",
       "292  38.0  1.0  3.0     138.0  175.0  0.0      0.0    173.0    0.0      0.0   \n",
       "\n",
       "     slope   ca thal  num  \n",
       "0      2.0  0.0  6.0    0  \n",
       "1      2.0  0.0  3.0    0  \n",
       "2      2.0  1.0  6.0    2  \n",
       "3      1.0  0.0  7.0    0  \n",
       "4      1.0  0.0  7.0    0  \n",
       "..     ...  ...  ...  ...  \n",
       "288    2.0  0.0  7.0    1  \n",
       "289    2.0  2.0  7.0    2  \n",
       "290    2.0  1.0  7.0    3  \n",
       "291    2.0  1.0  3.0    1  \n",
       "292    1.0    ?  3.0    0  \n",
       "\n",
       "[293 rows x 14 columns]"
      ]
     },
     "execution_count": 3,
     "metadata": {},
     "output_type": "execute_result"
    }
   ],
   "source": [
    "df"
   ]
  },
  {
   "cell_type": "code",
   "execution_count": 4,
   "id": "inappropriate-michael",
   "metadata": {},
   "outputs": [
    {
     "data": {
      "text/html": [
       "<div>\n",
       "<style scoped>\n",
       "    .dataframe tbody tr th:only-of-type {\n",
       "        vertical-align: middle;\n",
       "    }\n",
       "\n",
       "    .dataframe tbody tr th {\n",
       "        vertical-align: top;\n",
       "    }\n",
       "\n",
       "    .dataframe thead th {\n",
       "        text-align: right;\n",
       "    }\n",
       "</style>\n",
       "<table border=\"1\" class=\"dataframe\">\n",
       "  <thead>\n",
       "    <tr style=\"text-align: right;\">\n",
       "      <th></th>\n",
       "      <th>age</th>\n",
       "      <th>sex</th>\n",
       "      <th>cp</th>\n",
       "      <th>trestbps</th>\n",
       "      <th>chol</th>\n",
       "      <th>fbs</th>\n",
       "      <th>restecg</th>\n",
       "      <th>thalach</th>\n",
       "      <th>exang</th>\n",
       "      <th>oldpeak</th>\n",
       "      <th>slope</th>\n",
       "      <th>ca</th>\n",
       "      <th>thal</th>\n",
       "      <th>num</th>\n",
       "    </tr>\n",
       "  </thead>\n",
       "  <tbody>\n",
       "    <tr>\n",
       "      <th>0</th>\n",
       "      <td>63.0</td>\n",
       "      <td>1.0</td>\n",
       "      <td>1.0</td>\n",
       "      <td>145.0</td>\n",
       "      <td>233.0</td>\n",
       "      <td>1.0</td>\n",
       "      <td>2.0</td>\n",
       "      <td>150.0</td>\n",
       "      <td>0.0</td>\n",
       "      <td>2.3</td>\n",
       "      <td>3.0</td>\n",
       "      <td>0.0</td>\n",
       "      <td>6.0</td>\n",
       "      <td>0</td>\n",
       "    </tr>\n",
       "    <tr>\n",
       "      <th>1</th>\n",
       "      <td>67.0</td>\n",
       "      <td>1.0</td>\n",
       "      <td>4.0</td>\n",
       "      <td>160.0</td>\n",
       "      <td>286.0</td>\n",
       "      <td>0.0</td>\n",
       "      <td>2.0</td>\n",
       "      <td>108.0</td>\n",
       "      <td>1.0</td>\n",
       "      <td>1.5</td>\n",
       "      <td>2.0</td>\n",
       "      <td>3.0</td>\n",
       "      <td>3.0</td>\n",
       "      <td>2</td>\n",
       "    </tr>\n",
       "    <tr>\n",
       "      <th>2</th>\n",
       "      <td>67.0</td>\n",
       "      <td>1.0</td>\n",
       "      <td>4.0</td>\n",
       "      <td>120.0</td>\n",
       "      <td>229.0</td>\n",
       "      <td>0.0</td>\n",
       "      <td>2.0</td>\n",
       "      <td>129.0</td>\n",
       "      <td>1.0</td>\n",
       "      <td>2.6</td>\n",
       "      <td>2.0</td>\n",
       "      <td>2.0</td>\n",
       "      <td>7.0</td>\n",
       "      <td>1</td>\n",
       "    </tr>\n",
       "    <tr>\n",
       "      <th>3</th>\n",
       "      <td>37.0</td>\n",
       "      <td>1.0</td>\n",
       "      <td>3.0</td>\n",
       "      <td>130.0</td>\n",
       "      <td>250.0</td>\n",
       "      <td>0.0</td>\n",
       "      <td>0.0</td>\n",
       "      <td>187.0</td>\n",
       "      <td>0.0</td>\n",
       "      <td>3.5</td>\n",
       "      <td>3.0</td>\n",
       "      <td>0.0</td>\n",
       "      <td>3.0</td>\n",
       "      <td>0</td>\n",
       "    </tr>\n",
       "    <tr>\n",
       "      <th>4</th>\n",
       "      <td>41.0</td>\n",
       "      <td>0.0</td>\n",
       "      <td>2.0</td>\n",
       "      <td>130.0</td>\n",
       "      <td>204.0</td>\n",
       "      <td>0.0</td>\n",
       "      <td>2.0</td>\n",
       "      <td>172.0</td>\n",
       "      <td>0.0</td>\n",
       "      <td>1.4</td>\n",
       "      <td>1.0</td>\n",
       "      <td>0.0</td>\n",
       "      <td>3.0</td>\n",
       "      <td>0</td>\n",
       "    </tr>\n",
       "    <tr>\n",
       "      <th>5</th>\n",
       "      <td>56.0</td>\n",
       "      <td>1.0</td>\n",
       "      <td>2.0</td>\n",
       "      <td>120.0</td>\n",
       "      <td>236.0</td>\n",
       "      <td>0.0</td>\n",
       "      <td>0.0</td>\n",
       "      <td>178.0</td>\n",
       "      <td>0.0</td>\n",
       "      <td>0.8</td>\n",
       "      <td>1.0</td>\n",
       "      <td>0.0</td>\n",
       "      <td>3.0</td>\n",
       "      <td>0</td>\n",
       "    </tr>\n",
       "    <tr>\n",
       "      <th>6</th>\n",
       "      <td>62.0</td>\n",
       "      <td>0.0</td>\n",
       "      <td>4.0</td>\n",
       "      <td>140.0</td>\n",
       "      <td>268.0</td>\n",
       "      <td>0.0</td>\n",
       "      <td>2.0</td>\n",
       "      <td>160.0</td>\n",
       "      <td>0.0</td>\n",
       "      <td>3.6</td>\n",
       "      <td>3.0</td>\n",
       "      <td>2.0</td>\n",
       "      <td>3.0</td>\n",
       "      <td>3</td>\n",
       "    </tr>\n",
       "    <tr>\n",
       "      <th>7</th>\n",
       "      <td>57.0</td>\n",
       "      <td>0.0</td>\n",
       "      <td>4.0</td>\n",
       "      <td>120.0</td>\n",
       "      <td>354.0</td>\n",
       "      <td>0.0</td>\n",
       "      <td>0.0</td>\n",
       "      <td>163.0</td>\n",
       "      <td>1.0</td>\n",
       "      <td>0.6</td>\n",
       "      <td>1.0</td>\n",
       "      <td>0.0</td>\n",
       "      <td>3.0</td>\n",
       "      <td>0</td>\n",
       "    </tr>\n",
       "    <tr>\n",
       "      <th>8</th>\n",
       "      <td>63.0</td>\n",
       "      <td>1.0</td>\n",
       "      <td>4.0</td>\n",
       "      <td>130.0</td>\n",
       "      <td>254.0</td>\n",
       "      <td>0.0</td>\n",
       "      <td>2.0</td>\n",
       "      <td>147.0</td>\n",
       "      <td>0.0</td>\n",
       "      <td>1.4</td>\n",
       "      <td>2.0</td>\n",
       "      <td>1.0</td>\n",
       "      <td>7.0</td>\n",
       "      <td>2</td>\n",
       "    </tr>\n",
       "    <tr>\n",
       "      <th>9</th>\n",
       "      <td>53.0</td>\n",
       "      <td>1.0</td>\n",
       "      <td>4.0</td>\n",
       "      <td>140.0</td>\n",
       "      <td>203.0</td>\n",
       "      <td>1.0</td>\n",
       "      <td>2.0</td>\n",
       "      <td>155.0</td>\n",
       "      <td>1.0</td>\n",
       "      <td>3.1</td>\n",
       "      <td>3.0</td>\n",
       "      <td>0.0</td>\n",
       "      <td>7.0</td>\n",
       "      <td>1</td>\n",
       "    </tr>\n",
       "  </tbody>\n",
       "</table>\n",
       "</div>"
      ],
      "text/plain": [
       "    age  sex   cp  trestbps   chol  fbs  restecg  thalach  exang  oldpeak  \\\n",
       "0  63.0  1.0  1.0     145.0  233.0  1.0      2.0    150.0    0.0      2.3   \n",
       "1  67.0  1.0  4.0     160.0  286.0  0.0      2.0    108.0    1.0      1.5   \n",
       "2  67.0  1.0  4.0     120.0  229.0  0.0      2.0    129.0    1.0      2.6   \n",
       "3  37.0  1.0  3.0     130.0  250.0  0.0      0.0    187.0    0.0      3.5   \n",
       "4  41.0  0.0  2.0     130.0  204.0  0.0      2.0    172.0    0.0      1.4   \n",
       "5  56.0  1.0  2.0     120.0  236.0  0.0      0.0    178.0    0.0      0.8   \n",
       "6  62.0  0.0  4.0     140.0  268.0  0.0      2.0    160.0    0.0      3.6   \n",
       "7  57.0  0.0  4.0     120.0  354.0  0.0      0.0    163.0    1.0      0.6   \n",
       "8  63.0  1.0  4.0     130.0  254.0  0.0      2.0    147.0    0.0      1.4   \n",
       "9  53.0  1.0  4.0     140.0  203.0  1.0      2.0    155.0    1.0      3.1   \n",
       "\n",
       "   slope   ca  thal  num  \n",
       "0    3.0  0.0   6.0    0  \n",
       "1    2.0  3.0   3.0    2  \n",
       "2    2.0  2.0   7.0    1  \n",
       "3    3.0  0.0   3.0    0  \n",
       "4    1.0  0.0   3.0    0  \n",
       "5    1.0  0.0   3.0    0  \n",
       "6    3.0  2.0   3.0    3  \n",
       "7    1.0  0.0   3.0    0  \n",
       "8    2.0  1.0   7.0    2  \n",
       "9    3.0  0.0   7.0    1  "
      ]
     },
     "execution_count": 4,
     "metadata": {},
     "output_type": "execute_result"
    }
   ],
   "source": [
    "df_test"
   ]
  },
  {
   "cell_type": "markdown",
   "id": "basic-facility",
   "metadata": {},
   "source": [
    "### Найдем столбцы, в которых содержатся неизвестные значения"
   ]
  },
  {
   "cell_type": "code",
   "execution_count": 5,
   "id": "realistic-cancer",
   "metadata": {},
   "outputs": [
    {
     "name": "stdout",
     "output_type": "stream",
     "text": [
      "{'ca', 'thal'}\n"
     ]
    }
   ],
   "source": [
    "columns_with_invalid_data = set()\n",
    "\n",
    "for col in df:\n",
    "    for el in df[col]:\n",
    "        if el == '?':\n",
    "            columns_with_invalid_data.add(col)\n",
    "            \n",
    "print(columns_with_invalid_data)"
   ]
  },
  {
   "cell_type": "markdown",
   "id": "oriental-arthur",
   "metadata": {},
   "source": [
    "Удалим строки, в которых есть неизвестные значения"
   ]
  },
  {
   "cell_type": "code",
   "execution_count": 6,
   "id": "interstate-library",
   "metadata": {},
   "outputs": [],
   "source": [
    "for col_name in columns_with_invalid_data:\n",
    "    df.drop(df[df[col_name] == '?'].index, inplace=True)\n",
    "\n",
    "df.reset_index(inplace=True, drop=True)"
   ]
  },
  {
   "cell_type": "code",
   "execution_count": 7,
   "id": "current-great",
   "metadata": {},
   "outputs": [
    {
     "data": {
      "text/html": [
       "<div>\n",
       "<style scoped>\n",
       "    .dataframe tbody tr th:only-of-type {\n",
       "        vertical-align: middle;\n",
       "    }\n",
       "\n",
       "    .dataframe tbody tr th {\n",
       "        vertical-align: top;\n",
       "    }\n",
       "\n",
       "    .dataframe thead th {\n",
       "        text-align: right;\n",
       "    }\n",
       "</style>\n",
       "<table border=\"1\" class=\"dataframe\">\n",
       "  <thead>\n",
       "    <tr style=\"text-align: right;\">\n",
       "      <th></th>\n",
       "      <th>age</th>\n",
       "      <th>sex</th>\n",
       "      <th>cp</th>\n",
       "      <th>trestbps</th>\n",
       "      <th>chol</th>\n",
       "      <th>fbs</th>\n",
       "      <th>restecg</th>\n",
       "      <th>thalach</th>\n",
       "      <th>exang</th>\n",
       "      <th>oldpeak</th>\n",
       "      <th>slope</th>\n",
       "      <th>ca</th>\n",
       "      <th>thal</th>\n",
       "      <th>num</th>\n",
       "    </tr>\n",
       "  </thead>\n",
       "  <tbody>\n",
       "    <tr>\n",
       "      <th>0</th>\n",
       "      <td>57.0</td>\n",
       "      <td>1.0</td>\n",
       "      <td>4.0</td>\n",
       "      <td>140.0</td>\n",
       "      <td>192.0</td>\n",
       "      <td>0.0</td>\n",
       "      <td>0.0</td>\n",
       "      <td>148.0</td>\n",
       "      <td>0.0</td>\n",
       "      <td>0.4</td>\n",
       "      <td>2.0</td>\n",
       "      <td>0.0</td>\n",
       "      <td>6.0</td>\n",
       "      <td>0</td>\n",
       "    </tr>\n",
       "    <tr>\n",
       "      <th>1</th>\n",
       "      <td>56.0</td>\n",
       "      <td>0.0</td>\n",
       "      <td>2.0</td>\n",
       "      <td>140.0</td>\n",
       "      <td>294.0</td>\n",
       "      <td>0.0</td>\n",
       "      <td>2.0</td>\n",
       "      <td>153.0</td>\n",
       "      <td>0.0</td>\n",
       "      <td>1.3</td>\n",
       "      <td>2.0</td>\n",
       "      <td>0.0</td>\n",
       "      <td>3.0</td>\n",
       "      <td>0</td>\n",
       "    </tr>\n",
       "    <tr>\n",
       "      <th>2</th>\n",
       "      <td>56.0</td>\n",
       "      <td>1.0</td>\n",
       "      <td>3.0</td>\n",
       "      <td>130.0</td>\n",
       "      <td>256.0</td>\n",
       "      <td>1.0</td>\n",
       "      <td>2.0</td>\n",
       "      <td>142.0</td>\n",
       "      <td>1.0</td>\n",
       "      <td>0.6</td>\n",
       "      <td>2.0</td>\n",
       "      <td>1.0</td>\n",
       "      <td>6.0</td>\n",
       "      <td>2</td>\n",
       "    </tr>\n",
       "    <tr>\n",
       "      <th>3</th>\n",
       "      <td>44.0</td>\n",
       "      <td>1.0</td>\n",
       "      <td>2.0</td>\n",
       "      <td>120.0</td>\n",
       "      <td>263.0</td>\n",
       "      <td>0.0</td>\n",
       "      <td>0.0</td>\n",
       "      <td>173.0</td>\n",
       "      <td>0.0</td>\n",
       "      <td>0.0</td>\n",
       "      <td>1.0</td>\n",
       "      <td>0.0</td>\n",
       "      <td>7.0</td>\n",
       "      <td>0</td>\n",
       "    </tr>\n",
       "    <tr>\n",
       "      <th>4</th>\n",
       "      <td>52.0</td>\n",
       "      <td>1.0</td>\n",
       "      <td>3.0</td>\n",
       "      <td>172.0</td>\n",
       "      <td>199.0</td>\n",
       "      <td>1.0</td>\n",
       "      <td>0.0</td>\n",
       "      <td>162.0</td>\n",
       "      <td>0.0</td>\n",
       "      <td>0.5</td>\n",
       "      <td>1.0</td>\n",
       "      <td>0.0</td>\n",
       "      <td>7.0</td>\n",
       "      <td>0</td>\n",
       "    </tr>\n",
       "    <tr>\n",
       "      <th>...</th>\n",
       "      <td>...</td>\n",
       "      <td>...</td>\n",
       "      <td>...</td>\n",
       "      <td>...</td>\n",
       "      <td>...</td>\n",
       "      <td>...</td>\n",
       "      <td>...</td>\n",
       "      <td>...</td>\n",
       "      <td>...</td>\n",
       "      <td>...</td>\n",
       "      <td>...</td>\n",
       "      <td>...</td>\n",
       "      <td>...</td>\n",
       "      <td>...</td>\n",
       "    </tr>\n",
       "    <tr>\n",
       "      <th>282</th>\n",
       "      <td>57.0</td>\n",
       "      <td>0.0</td>\n",
       "      <td>4.0</td>\n",
       "      <td>140.0</td>\n",
       "      <td>241.0</td>\n",
       "      <td>0.0</td>\n",
       "      <td>0.0</td>\n",
       "      <td>123.0</td>\n",
       "      <td>1.0</td>\n",
       "      <td>0.2</td>\n",
       "      <td>2.0</td>\n",
       "      <td>0.0</td>\n",
       "      <td>7.0</td>\n",
       "      <td>1</td>\n",
       "    </tr>\n",
       "    <tr>\n",
       "      <th>283</th>\n",
       "      <td>45.0</td>\n",
       "      <td>1.0</td>\n",
       "      <td>1.0</td>\n",
       "      <td>110.0</td>\n",
       "      <td>264.0</td>\n",
       "      <td>0.0</td>\n",
       "      <td>0.0</td>\n",
       "      <td>132.0</td>\n",
       "      <td>0.0</td>\n",
       "      <td>1.2</td>\n",
       "      <td>2.0</td>\n",
       "      <td>0.0</td>\n",
       "      <td>7.0</td>\n",
       "      <td>1</td>\n",
       "    </tr>\n",
       "    <tr>\n",
       "      <th>284</th>\n",
       "      <td>68.0</td>\n",
       "      <td>1.0</td>\n",
       "      <td>4.0</td>\n",
       "      <td>144.0</td>\n",
       "      <td>193.0</td>\n",
       "      <td>1.0</td>\n",
       "      <td>0.0</td>\n",
       "      <td>141.0</td>\n",
       "      <td>0.0</td>\n",
       "      <td>3.4</td>\n",
       "      <td>2.0</td>\n",
       "      <td>2.0</td>\n",
       "      <td>7.0</td>\n",
       "      <td>2</td>\n",
       "    </tr>\n",
       "    <tr>\n",
       "      <th>285</th>\n",
       "      <td>57.0</td>\n",
       "      <td>1.0</td>\n",
       "      <td>4.0</td>\n",
       "      <td>130.0</td>\n",
       "      <td>131.0</td>\n",
       "      <td>0.0</td>\n",
       "      <td>0.0</td>\n",
       "      <td>115.0</td>\n",
       "      <td>1.0</td>\n",
       "      <td>1.2</td>\n",
       "      <td>2.0</td>\n",
       "      <td>1.0</td>\n",
       "      <td>7.0</td>\n",
       "      <td>3</td>\n",
       "    </tr>\n",
       "    <tr>\n",
       "      <th>286</th>\n",
       "      <td>57.0</td>\n",
       "      <td>0.0</td>\n",
       "      <td>2.0</td>\n",
       "      <td>130.0</td>\n",
       "      <td>236.0</td>\n",
       "      <td>0.0</td>\n",
       "      <td>2.0</td>\n",
       "      <td>174.0</td>\n",
       "      <td>0.0</td>\n",
       "      <td>0.0</td>\n",
       "      <td>2.0</td>\n",
       "      <td>1.0</td>\n",
       "      <td>3.0</td>\n",
       "      <td>1</td>\n",
       "    </tr>\n",
       "  </tbody>\n",
       "</table>\n",
       "<p>287 rows × 14 columns</p>\n",
       "</div>"
      ],
      "text/plain": [
       "      age  sex   cp  trestbps   chol  fbs  restecg  thalach  exang  oldpeak  \\\n",
       "0    57.0  1.0  4.0     140.0  192.0  0.0      0.0    148.0    0.0      0.4   \n",
       "1    56.0  0.0  2.0     140.0  294.0  0.0      2.0    153.0    0.0      1.3   \n",
       "2    56.0  1.0  3.0     130.0  256.0  1.0      2.0    142.0    1.0      0.6   \n",
       "3    44.0  1.0  2.0     120.0  263.0  0.0      0.0    173.0    0.0      0.0   \n",
       "4    52.0  1.0  3.0     172.0  199.0  1.0      0.0    162.0    0.0      0.5   \n",
       "..    ...  ...  ...       ...    ...  ...      ...      ...    ...      ...   \n",
       "282  57.0  0.0  4.0     140.0  241.0  0.0      0.0    123.0    1.0      0.2   \n",
       "283  45.0  1.0  1.0     110.0  264.0  0.0      0.0    132.0    0.0      1.2   \n",
       "284  68.0  1.0  4.0     144.0  193.0  1.0      0.0    141.0    0.0      3.4   \n",
       "285  57.0  1.0  4.0     130.0  131.0  0.0      0.0    115.0    1.0      1.2   \n",
       "286  57.0  0.0  2.0     130.0  236.0  0.0      2.0    174.0    0.0      0.0   \n",
       "\n",
       "     slope   ca thal  num  \n",
       "0      2.0  0.0  6.0    0  \n",
       "1      2.0  0.0  3.0    0  \n",
       "2      2.0  1.0  6.0    2  \n",
       "3      1.0  0.0  7.0    0  \n",
       "4      1.0  0.0  7.0    0  \n",
       "..     ...  ...  ...  ...  \n",
       "282    2.0  0.0  7.0    1  \n",
       "283    2.0  0.0  7.0    1  \n",
       "284    2.0  2.0  7.0    2  \n",
       "285    2.0  1.0  7.0    3  \n",
       "286    2.0  1.0  3.0    1  \n",
       "\n",
       "[287 rows x 14 columns]"
      ]
     },
     "execution_count": 7,
     "metadata": {},
     "output_type": "execute_result"
    }
   ],
   "source": [
    "df"
   ]
  },
  {
   "cell_type": "markdown",
   "id": "saving-cheat",
   "metadata": {},
   "source": [
    "Количество мужчин и женщин:"
   ]
  },
  {
   "cell_type": "code",
   "execution_count": 8,
   "id": "dirty-gothic",
   "metadata": {},
   "outputs": [
    {
     "name": "stdout",
     "output_type": "stream",
     "text": [
      "male =  194\n",
      "female =  93\n"
     ]
    }
   ],
   "source": [
    "print('male = ', df['sex'].value_counts()[1.0])\n",
    "print('female = ', df['sex'].value_counts()[0.0])"
   ]
  },
  {
   "cell_type": "markdown",
   "id": "technical-officer",
   "metadata": {},
   "source": [
    "Попробуем обнаружить корреляцию между количественными признаками."
   ]
  },
  {
   "cell_type": "code",
   "execution_count": 9,
   "id": "second-ranking",
   "metadata": {},
   "outputs": [
    {
     "data": {
      "image/png": "[encoded data removed]",
      "text/plain": [
       "<Figure size 432x288 with 25 Axes>"
      ]
     },
     "metadata": {
      "needs_background": "light"
     },
     "output_type": "display_data"
    }
   ],
   "source": [
    "import matplotlib.pyplot as plt\n",
    "\n",
    "coli = ['age', 'trestbps', 'chol', 'thalach', 'oldpeak']        \n",
    "pd.plotting.scatter_matrix(df[coli], alpha=0.2);"
   ]
  },
  {
   "cell_type": "markdown",
   "id": "reported-colorado",
   "metadata": {},
   "source": [
    "Корреляция не обнаружена. Проверим качественные признаки."
   ]
  },
  {
   "cell_type": "code",
   "execution_count": 10,
   "id": "spread-touch",
   "metadata": {},
   "outputs": [
    {
     "data": {
      "image/png": "[encoded data removed]",
      "text/plain": [
       "<Figure size 432x288 with 1 Axes>"
      ]
     },
     "metadata": {
      "needs_background": "light"
     },
     "output_type": "display_data"
    },
    {
     "data": {
      "image/png": "[encoded data removed]",
      "text/plain": [
       "<Figure size 432x288 with 1 Axes>"
      ]
     },
     "metadata": {
      "needs_background": "light"
     },
     "output_type": "display_data"
    },
    {
     "data": {
      "image/png": "[encoded data removed]",
      "text/plain": [
       "<Figure size 432x288 with 1 Axes>"
      ]
     },
     "metadata": {
      "needs_background": "light"
     },
     "output_type": "display_data"
    }
   ],
   "source": [
    "df[['num', 'sex']].boxplot(by='sex');\n",
    "\n",
    "# # uncomment to plot all graphs\n",
    "# for i in coli:\n",
    "#     cach = ['num', i]\n",
    "#     df[cach].boxplot(by='num');\n",
    "\n",
    "df[['num', 'age']].boxplot(by='num');\n",
    "df[['num', 'oldpeak']].boxplot(by='num');"
   ]
  },
  {
   "cell_type": "markdown",
   "id": "unlimited-malta",
   "metadata": {},
   "source": [
    "По полученным графикам можно сделать следующие выводы:\n",
    "1. В среднем вероятность найти сердечное заболевание у мужчин выше, чем у женщин\n",
    "2. Средний возраст людей с большим шансом наличия сердечного заболевания выше среднего возраста людей с низким шансом\n",
    "3. ST-депрессия у людей с большим шансом заболевания выше ST-депрессии у людей с низким шансом"
   ]
  },
  {
   "cell_type": "markdown",
   "id": "secret-ridge",
   "metadata": {},
   "source": [
    "## Подготовка датасета"
   ]
  },
  {
   "cell_type": "markdown",
   "id": "synthetic-integrity",
   "metadata": {},
   "source": [
    "Для более удобной последующей работы с данными, переместим датафрейм в список списков. "
   ]
  },
  {
   "cell_type": "code",
   "execution_count": 11,
   "id": "established-architect",
   "metadata": {},
   "outputs": [],
   "source": [
    "data = df.values.tolist()\n",
    "data_test = df_test.values.tolist()"
   ]
  },
  {
   "cell_type": "code",
   "execution_count": 12,
   "id": "according-jesus",
   "metadata": {},
   "outputs": [
    {
     "data": {
      "text/plain": [
       "[57.0, 1.0, 4.0, 140.0, 192.0, 0.0, 0.0, 148.0, 0.0, 0.4, 2.0, '0.0', '6.0', 0]"
      ]
     },
     "execution_count": 12,
     "metadata": {},
     "output_type": "execute_result"
    }
   ],
   "source": [
    "data[0]"
   ]
  },
  {
   "cell_type": "code",
   "execution_count": 13,
   "id": "forward-geneva",
   "metadata": {},
   "outputs": [
    {
     "data": {
      "text/plain": [
       "[63.0, 1.0, 1.0, 145.0, 233.0, 1.0, 2.0, 150.0, 0.0, 2.3, 3.0, 0.0, 6.0, 0.0]"
      ]
     },
     "execution_count": 13,
     "metadata": {},
     "output_type": "execute_result"
    }
   ],
   "source": [
    "data_test[0]"
   ]
  },
  {
   "cell_type": "markdown",
   "id": "divided-render",
   "metadata": {},
   "source": [
    "Некоторые элементы в обучающей выборке имеют строковый тип, поскольку в исходном датасете в тех столбцах встречались знаки '?'. Конвертируем все данные в числа. В тестовой выборке все элементы числовые, поскольку выбирались только полные записи."
   ]
  },
  {
   "cell_type": "code",
   "execution_count": 14,
   "id": "minimal-mission",
   "metadata": {},
   "outputs": [],
   "source": [
    "for i in range(len(data)):\n",
    "    data[i] = list(map(float, data[i]))"
   ]
  },
  {
   "cell_type": "code",
   "execution_count": 15,
   "id": "internal-feelings",
   "metadata": {},
   "outputs": [
    {
     "data": {
      "text/plain": [
       "[57.0, 1.0, 4.0, 140.0, 192.0, 0.0, 0.0, 148.0, 0.0, 0.4, 2.0, 0.0, 6.0, 0.0]"
      ]
     },
     "execution_count": 15,
     "metadata": {},
     "output_type": "execute_result"
    }
   ],
   "source": [
    "data[0]"
   ]
  },
  {
   "cell_type": "markdown",
   "id": "generous-lingerie",
   "metadata": {},
   "source": [
    "Нормируем данные в диапазон [0, 1] минимакс алгоритмом."
   ]
  },
  {
   "cell_type": "code",
   "execution_count": 16,
   "id": "equivalent-found",
   "metadata": {},
   "outputs": [
    {
     "name": "stdout",
     "output_type": "stream",
     "text": [
      "[0.5833333333333334, 1.0, 1.0, 0.4339622641509434, 0.1506849315068493, 0.0, 0.0, 0.5877862595419847, 0.0, 0.06451612903225806, 0.5, 0.0, 0.75, 0.0]\n",
      "[0.7083333333333334, 1.0, 0.0, 0.4811320754716981, 0.24429223744292236, 1.0, 1.0, 0.6030534351145038, 0.0, 0.3709677419354838, 1.0, 0.0, 0.75, 0.0]\n"
     ]
    }
   ],
   "source": [
    "for i in range(len(data[0])-1):\n",
    "    minv = data[0][i]\n",
    "    maxv = data[0][i]\n",
    "\n",
    "    for j in range(len(data)):\n",
    "        minv = min(minv, data[j][i])\n",
    "        maxv = max(maxv, data[j][i])\n",
    "        \n",
    "    for j in range(len(data_test)):\n",
    "        minv = min(minv, data_test[j][i])\n",
    "        maxv = max(maxv, data_test[j][i])\n",
    "\n",
    "    for j in range(len(data)):\n",
    "        data[j][i] = (data[j][i] - minv) / (maxv - minv)\n",
    "        \n",
    "    for j in range(len(data_test)):\n",
    "        data_test[j][i] = (data_test[j][i] - minv) / (maxv - minv)\n",
    "            \n",
    "print(data[0])\n",
    "print(data_test[0])"
   ]
  },
  {
   "cell_type": "markdown",
   "id": "determined-shepherd",
   "metadata": {},
   "source": [
    "Уберем ответы в отдельный список."
   ]
  },
  {
   "cell_type": "code",
   "execution_count": 17,
   "id": "acute-issue",
   "metadata": {},
   "outputs": [],
   "source": [
    "ans = {}\n",
    "ans_test = {}\n",
    "\n",
    "for li in data:\n",
    "    ans[repr(li[:-1])] = li[-1]\n",
    "    li.pop()\n",
    "\n",
    "for li in data_test:\n",
    "    ans_test[repr(li[:-1])] = li[-1]\n",
    "    li.pop()"
   ]
  },
  {
   "cell_type": "markdown",
   "id": "hungry-donor",
   "metadata": {},
   "source": [
    "## Метод KNN"
   ]
  },
  {
   "cell_type": "markdown",
   "id": "scientific-danger",
   "metadata": {},
   "source": [
    "Введем несколько функций расстояния между элементами датасета, а также весовую функцию."
   ]
  },
  {
   "cell_type": "code",
   "execution_count": 18,
   "id": "female-composition",
   "metadata": {},
   "outputs": [],
   "source": [
    "from math import sqrt\n",
    "\n",
    "def taxicab(v1, v2):\n",
    "    return sum([abs(x - y) for x, y in zip(v1, v2)])\n",
    "\n",
    "def euclidean(v1, v2):\n",
    "    return sqrt(sum([(x - y)**2 for x, y in zip(v1, v2)]))\n",
    "\n",
    "def infinity_norm(v1, v2):\n",
    "    return max([abs(x - y) for x, y in zip(v1, v2)])\n",
    "\n",
    "\n",
    "def weight(q, i):\n",
    "    return q**i"
   ]
  },
  {
   "cell_type": "markdown",
   "id": "russian-dodge",
   "metadata": {},
   "source": [
    "Данная реализация алгоритма **KNN** сортирует элементы обучающей выборки по расстоянию до текущего элемента тестовой выборки. После этого первым ***k*** элементам обучающей выборки присваивается вес **weight(q, i)**, где **q**-заранее выбранная константа, **i**-индекс в отсортированном списке. "
   ]
  },
  {
   "cell_type": "markdown",
   "id": "elect-watson",
   "metadata": {},
   "source": [
    "Затем по каждой категории для элементов обучающей выборки суммируются их веса. Категория с наибольшим весом - ответ."
   ]
  },
  {
   "cell_type": "code",
   "execution_count": 19,
   "id": "level-river",
   "metadata": {},
   "outputs": [
    {
     "name": "stdout",
     "output_type": "stream",
     "text": [
      "distance function: taxicab\n",
      "predict rate: 0.7\n",
      "distance function: euclidean\n",
      "predict rate: 0.6\n",
      "distance function: infinity_norm\n",
      "predict rate: 0.6\n"
     ]
    }
   ],
   "source": [
    "import numpy as np\n",
    "import functools\n",
    "import operator\n",
    "\n",
    "\n",
    "def test_knn(q:float, k:int, dist):\n",
    "    correct = 0\n",
    "    total = 0\n",
    "\n",
    "    for test_el in data_test:\n",
    "        def compare(x, y):\n",
    "            return dist(test_el, x) - dist(test_el, y)\n",
    "\n",
    "        sorted_data = sorted(data, key=functools.cmp_to_key(compare))\n",
    "        \n",
    "        weights = {}\n",
    "        for i in range(k):\n",
    "            if ans[repr(sorted_data[i])] in weights:\n",
    "                weights[ans[repr(sorted_data[i])]] += weight(q, i)\n",
    "            else:\n",
    "                weights[ans[repr(sorted_data[i])]] = weight(q, i)\n",
    "        \n",
    "        predict = max(weights.items(), key=operator.itemgetter(1))[0]\n",
    "        true_ans = ans_test[repr(test_el)]\n",
    "        \n",
    "        if predict == true_ans:\n",
    "            correct += 1\n",
    "        total += 1\n",
    "        \n",
    "    predict_rate = correct / total\n",
    "    return predict_rate\n",
    "\n",
    "\n",
    "k = 7\n",
    "q = 0.8\n",
    "\n",
    "for dist in [taxicab, euclidean, infinity_norm]:\n",
    "    print('distance function:', dist.__name__)\n",
    "    res = test_knn(q, k, dist)\n",
    "    print('predict rate:', res)"
   ]
  },
  {
   "cell_type": "markdown",
   "id": "auburn-resort",
   "metadata": {},
   "source": [
    "## Наивный байесовский классификатор"
   ]
  },
  {
   "cell_type": "markdown",
   "id": "endless-furniture",
   "metadata": {},
   "source": [
    "Классификатор будет работать только с количественными переменными, поскольку у качественных в каждом из классов много повторяющихся значений."
   ]
  },
  {
   "cell_type": "markdown",
   "id": "proof-charter",
   "metadata": {},
   "source": [
    "Посчитаем количество элементов в каждом из классов."
   ]
  },
  {
   "cell_type": "code",
   "execution_count": 20,
   "id": "athletic-craps",
   "metadata": {},
   "outputs": [
    {
     "data": {
      "text/plain": [
       "{0.0: 155, 1.0: 52, 2.0: 33, 3.0: 34, 4.0: 13}"
      ]
     },
     "execution_count": 20,
     "metadata": {},
     "output_type": "execute_result"
    }
   ],
   "source": [
    "classes = dict()\n",
    "\n",
    "for val in [0.0, 1.0, 2.0, 3.0, 4.0]:\n",
    "    classes[val] = df['num'].value_counts()[val]\n",
    "\n",
    "classes"
   ]
  },
  {
   "cell_type": "markdown",
   "id": "determined-wealth",
   "metadata": {},
   "source": [
    "Далее в каждом классе оценим вероятность встретить какой-либо конкретный признак. Будем сравнивать количественные переменные с точностью до 1 знака после запятой."
   ]
  },
  {
   "cell_type": "code",
   "execution_count": 21,
   "id": "premium-ivory",
   "metadata": {},
   "outputs": [],
   "source": [
    "distr = {}\n",
    "round_value = 1\n",
    "\n",
    "coli_ids = [df.columns.get_loc(name) for name in coli]\n",
    "\n",
    "for line in data:\n",
    "    for i in coli_ids:\n",
    "        if (ans[repr(line)], round(line[i], round_value)) in distr:\n",
    "            distr[ans[repr(line)], round(line[i], round_value)] += 1\n",
    "        else:\n",
    "            distr[ans[repr(line)], round(line[i], round_value)] = 1"
   ]
  },
  {
   "cell_type": "markdown",
   "id": "indie-worker",
   "metadata": {},
   "source": [
    "Переходим от количества к вероятностям."
   ]
  },
  {
   "cell_type": "code",
   "execution_count": 22,
   "id": "quiet-preview",
   "metadata": {},
   "outputs": [],
   "source": [
    "for cl, val in distr:\n",
    "    distr[cl, val] /= classes[cl]\n",
    "    \n",
    "for cl in classes:\n",
    "    classes[cl] /= df.shape[0]"
   ]
  },
  {
   "cell_type": "markdown",
   "id": "meaningful-captain",
   "metadata": {},
   "source": [
    "Проверим работу на тестовой выборке."
   ]
  },
  {
   "cell_type": "code",
   "execution_count": 23,
   "id": "dated-saturday",
   "metadata": {},
   "outputs": [
    {
     "name": "stdout",
     "output_type": "stream",
     "text": [
      "predict rate:  0.5\n"
     ]
    }
   ],
   "source": [
    "from math import log\n",
    "\n",
    "correct = 0\n",
    "total = len(data_test)\n",
    "\n",
    "for line in data_test:\n",
    "    cur_ans = {'val': 10**7, 'class': -1}\n",
    "    res_found = False\n",
    "    \n",
    "    for cl in classes:\n",
    "        summ = -log(classes[cl])\n",
    "        for i in coli_ids:\n",
    "            if (cl, round(line[i], round_value)) not in distr:\n",
    "                summ += 10**7\n",
    "            else:\n",
    "                summ += -log(distr[cl, round(line[i], round_value)])\n",
    "        if summ < cur_ans['val']:\n",
    "            res_found = True\n",
    "            cur_ans['val'] = summ\n",
    "            cur_ans['class'] = cl\n",
    "            \n",
    "    if res_found and cur_ans['class'] == ans_test[repr(line)]:\n",
    "        correct += 1\n",
    "            \n",
    "print('predict rate: ', correct / total)"
   ]
  },
  {
   "cell_type": "markdown",
   "id": "underlying-momentum",
   "metadata": {},
   "source": [
    "Полученный результат несколько ниже, чем в методе **KNN**, поскольку метод не слишком хорошо подходит для данного набора данных."
   ]
  },
  {
   "cell_type": "markdown",
   "id": "christian-million",
   "metadata": {},
   "source": [
    "## Сравнение с реализацией в sklearn"
   ]
  },
  {
   "cell_type": "markdown",
   "id": "compressed-darwin",
   "metadata": {},
   "source": [
    "### KNN"
   ]
  },
  {
   "cell_type": "code",
   "execution_count": 24,
   "id": "applied-business",
   "metadata": {},
   "outputs": [
    {
     "name": "stdout",
     "output_type": "stream",
     "text": [
      "predict rate: 0.6\n"
     ]
    }
   ],
   "source": [
    "from sklearn.neighbors import NearestNeighbors\n",
    "\n",
    "k = 7\n",
    "q = 0.8\n",
    "\n",
    "nbrs = NearestNeighbors(n_neighbors=k, algorithm='auto').fit(data)\n",
    "distances, indices = nbrs.kneighbors(data_test)\n",
    "\n",
    "total = len(distances)\n",
    "correct = 0\n",
    "\n",
    "for i in range(total):\n",
    "    weights = {}\n",
    "    for j in range(k):\n",
    "        if ans[repr(data[indices[i][j]])] in weights:\n",
    "            weights[ans[repr(data[indices[i][j]])]] += weight(q, j)\n",
    "        else:\n",
    "            weights[ans[repr(data[indices[i][j]])]] = weight(q, j)\n",
    "\n",
    "    predict = max(weights.items(), key=operator.itemgetter(1))[0]\n",
    "    true_ans = ans_test[repr(data_test[i])]\n",
    "    if predict == true_ans:\n",
    "        correct += 1\n",
    "\n",
    "        \n",
    "print('predict rate:', correct / total)"
   ]
  },
  {
   "cell_type": "markdown",
   "id": "forty-black",
   "metadata": {},
   "source": [
    "Результат совпадает с наивной реализацией, поскольку отличие от библиотечной функции состоит только в механизме поиска ближайших соседей. "
   ]
  },
  {
   "cell_type": "markdown",
   "id": "overhead-powder",
   "metadata": {},
   "source": [
    "### Bayes classifier"
   ]
  },
  {
   "cell_type": "markdown",
   "id": "opened-french",
   "metadata": {},
   "source": [
    "Используем классификатор Байеса, который использует в себе нормальное распределение."
   ]
  },
  {
   "cell_type": "code",
   "execution_count": 25,
   "id": "pointed-remark",
   "metadata": {},
   "outputs": [
    {
     "name": "stdout",
     "output_type": "stream",
     "text": [
      "predict rate: 0.4\n"
     ]
    }
   ],
   "source": [
    "from sklearn.datasets import load_iris\n",
    "from sklearn.model_selection import train_test_split\n",
    "from sklearn.naive_bayes import GaussianNB\n",
    "\n",
    "x_train, y_train = [[el[i] for i in coli_ids] for el in data], list(ans.values())\n",
    "x_test, y_test = [[el[i] for i in coli_ids] for el in data_test], list(ans_test.values())\n",
    "gnb = GaussianNB()\n",
    "y_pred = gnb.fit(x_train, y_train).predict(x_test)\n",
    "\n",
    "total = len(x_test)\n",
    "correct = [pred == corr for pred, corr in zip(y_pred, y_test)].count(True)\n",
    "\n",
    "print('predict rate:', correct / total)"
   ]
  },
  {
   "cell_type": "markdown",
   "id": "better-henry",
   "metadata": {},
   "source": [
    "Результат предсказания весьма низкий, что можно объяснить спецификой датасета."
   ]
  },
  {
   "cell_type": "markdown",
   "id": "aging-madonna",
   "metadata": {},
   "source": [
    "# Выводы"
   ]
  },
  {
   "cell_type": "markdown",
   "id": "organized-swift",
   "metadata": {},
   "source": [
    "В ходе лабораторной работы были реализованы алгоритм KNN и наивный байесовский классификатор. Поскольку в датасете не удалось выявить каких-либо простых зависимостей между количественными признаками (а также ввиду весьма ограниченного размера набора данных), точность предсказаний данных алгоритмов ограничивается в среднем 60%.\n",
    "\n",
    "Также следует отметить, что задача классификации в данном датасете весьма условная: мы пытаемся предсказать степень вероятности наличия сердечного заболевания (соседние категории весьма похожи)."
   ]
  }
 ],
 "metadata": {
  "kernelspec": {
   "display_name": "Python 3",
   "language": "python",
   "name": "python3"
  },
  "language_info": {
   "codemirror_mode": {
    "name": "ipython",
    "version": 3
   },
   "file_extension": ".py",
   "mimetype": "text/x-python",
   "name": "python",
   "nbconvert_exporter": "python",
   "pygments_lexer": "ipython3",
   "version": "3.8.6"
  }
 },
 "nbformat": 4,
 "nbformat_minor": 5
}